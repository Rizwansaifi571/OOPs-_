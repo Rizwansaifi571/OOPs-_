{
 "cells": [
  {
   "cell_type": "markdown",
   "metadata": {},
   "source": [
    "# Python Iterators.  \n",
    "Date : 29, Jan, 2024."
   ]
  },
  {
   "cell_type": "markdown",
   "metadata": {},
   "source": [
    "-> __Python Iterators.__  \n",
    "* An iterator is an object that contains a countable number of values.\n",
    "\n",
    "* An iterator is an object that can be iterated upon, meaning that you can traverse through all the values.\n",
    "\n",
    "* Technically, in Python, an iterator is an object which implements the iterator protocol, which consist of the methods ____iter____() and __next__()."
   ]
  }
 ],
 "metadata": {
  "language_info": {
   "name": "python"
  }
 },
 "nbformat": 4,
 "nbformat_minor": 2
}
