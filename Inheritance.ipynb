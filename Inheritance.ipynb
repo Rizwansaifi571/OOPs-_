{
 "cells": [
  {
   "cell_type": "markdown",
   "metadata": {},
   "source": [
    "# __Python Inheritance.__  \n",
    "Date : 28, Jan, 2024."
   ]
  },
  {
   "cell_type": "markdown",
   "metadata": {},
   "source": [
    "-> __Python Inheritance.__\n",
    "* Inheritance allows us to define a class that inherits all the methods and properties from another class.\n",
    "\n",
    "* Parent class is the class being inherited from, also called base class.\n",
    "\n",
    "* Child class is the class that inherits from another class, also called derived class."
   ]
  }
 ],
 "metadata": {
  "kernelspec": {
   "display_name": "Python 3",
   "language": "python",
   "name": "python3"
  },
  "language_info": {
   "name": "python",
   "version": "3.11.4"
  }
 },
 "nbformat": 4,
 "nbformat_minor": 2
}
